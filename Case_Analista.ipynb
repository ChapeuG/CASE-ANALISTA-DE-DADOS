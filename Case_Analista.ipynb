{
  "nbformat": 4,
  "nbformat_minor": 0,
  "metadata": {
    "colab": {
      "name": "Case Analista",
      "provenance": [],
      "collapsed_sections": [
        "7ipHbp7JSOMe",
        "gPOIn21ZByqS",
        "rWLx__bQQne8"
      ],
      "toc_visible": true,
      "authorship_tag": "ABX9TyPpPPgAh+/O7TliPOc55dR7",
      "include_colab_link": true
    },
    "kernelspec": {
      "name": "python3",
      "display_name": "Python 3"
    }
  },
  "cells": [
    {
      "cell_type": "markdown",
      "metadata": {
        "id": "view-in-github",
        "colab_type": "text"
      },
      "source": [
        "<a href=\"https://colab.research.google.com/github/ChapeuG/CASE-ANALISTA-DE-DADOS/blob/main/Case_Analista.ipynb\" target=\"_parent\"><img src=\"https://colab.research.google.com/assets/colab-badge.svg\" alt=\"Open In Colab\"/></a>"
      ]
    },
    {
      "cell_type": "markdown",
      "metadata": {
        "id": "iNVMnn7bGbmk"
      },
      "source": [
        "#CASE ANALISTA DE DADOS"
      ]
    },
    {
      "cell_type": "markdown",
      "metadata": {
        "id": "eBZrJ6yWGbd6"
      },
      "source": [
        "Análise:\n",
        "\n",
        "Antes de inciar qualquer análise de dados, realizei algumas pesquisas para contruir uma base e entender a fundo as cidades desbancarizadas, o perfil dessas pessoas e qual motivo de estarem nessa situação\n",
        "\n",
        "****\n",
        "\n",
        "Atualmente temos entre 45  milhões de brasileiros desbancarizados, ou seja, brasileiros que não movimentam a conta bancária há mais de seis meses ou que optaram por não ter conta em banco.\n",
        "\n",
        "***Em cada três brasileiros, um não possui conta bancária.***"
      ]
    },
    {
      "cell_type": "markdown",
      "metadata": {
        "id": "7IZZ_uf3ORK-"
      },
      "source": [
        "#Objetivo \n",
        "\n",
        "Converter 1.000 clientes nas cidades mais desbancarizadas do Brasil\n",
        "\n",
        "*   Classificar as cidades brasileira pelo nível de bancarização.\n",
        "*   Estimar o número de clientes convertidos em cada cidade\n",
        "\n"
      ]
    },
    {
      "cell_type": "markdown",
      "metadata": {
        "id": "vXfy5dRTOyXf"
      },
      "source": [
        "#Bibliotecas"
      ]
    },
    {
      "cell_type": "code",
      "metadata": {
        "id": "0URPUSWeO0VK"
      },
      "source": [
        "import pandas as pd\n",
        "import numpy as np\n",
        "from matplotlib import cm"
      ],
      "execution_count": 70,
      "outputs": []
    },
    {
      "cell_type": "code",
      "metadata": {
        "id": "Ksh2tMy2Azg2"
      },
      "source": [
        "# Importando Plotly\n",
        "import plotly.graph_objects as go\n",
        "import plotly.express as px\n",
        "from plotly.subplots import make_subplots"
      ],
      "execution_count": 71,
      "outputs": []
    },
    {
      "cell_type": "code",
      "metadata": {
        "colab": {
          "base_uri": "https://localhost:8080/"
        },
        "id": "2H3A1FYbA2S8",
        "outputId": "dd2f96c5-507c-4e22-dba8-95d04d2bf6c0"
      },
      "source": [
        "!pip install plotly==4.12.0"
      ],
      "execution_count": 72,
      "outputs": [
        {
          "output_type": "stream",
          "text": [
            "Requirement already satisfied: plotly==4.12.0 in /usr/local/lib/python3.6/dist-packages (4.12.0)\n",
            "Requirement already satisfied: retrying>=1.3.3 in /usr/local/lib/python3.6/dist-packages (from plotly==4.12.0) (1.3.3)\n",
            "Requirement already satisfied: six in /usr/local/lib/python3.6/dist-packages (from plotly==4.12.0) (1.15.0)\n"
          ],
          "name": "stdout"
        }
      ]
    },
    {
      "cell_type": "markdown",
      "metadata": {
        "id": "pIwZAchsOpX8"
      },
      "source": [
        "#Base de Dados"
      ]
    },
    {
      "cell_type": "markdown",
      "metadata": {
        "id": "bLE2aK1Tlkw1"
      },
      "source": [
        "Agências"
      ]
    },
    {
      "cell_type": "code",
      "metadata": {
        "id": "qhBKq20wOvPt"
      },
      "source": [
        "fonte = 'https://github.com/ChapeuG/CASE-ANALISTA-DE-DADOS/blob/main/Dados/bancos/202010AGENCIAS.xlsx?raw=true'\n",
        "dados_agencias = pd.read_excel(fonte,header=9,skipfooter=3)"
      ],
      "execution_count": 73,
      "outputs": []
    },
    {
      "cell_type": "markdown",
      "metadata": {
        "id": "_KpkrMwTl46S"
      },
      "source": [
        "Postos de Atendimento"
      ]
    },
    {
      "cell_type": "code",
      "metadata": {
        "id": "4cifSfiNQBv8"
      },
      "source": [
        "fonte = 'https://github.com/ChapeuG/CASE-ANALISTA-DE-DADOS/blob/main/Dados/bancos/202010POSTOS.xlsx?raw=true'\n",
        "dados_postos = pd.read_excel(fonte,header=9,skipfooter=3)"
      ],
      "execution_count": 74,
      "outputs": []
    },
    {
      "cell_type": "markdown",
      "metadata": {
        "id": "qMtPHWrul6fP"
      },
      "source": [
        "Postos de Atendimento Eletrônico"
      ]
    },
    {
      "cell_type": "code",
      "metadata": {
        "id": "7iWu-RbdluAr"
      },
      "source": [
        "fonte = 'https://github.com/ChapeuG/CASE-ANALISTA-DE-DADOS/blob/main/Dados/bancos/202010PAE.xlsx?raw=true'\n",
        "dados_pae = pd.read_excel(fonte,header=9,skipfooter=3)"
      ],
      "execution_count": 75,
      "outputs": []
    },
    {
      "cell_type": "markdown",
      "metadata": {
        "id": "DMdAdcnWXYVt"
      },
      "source": [
        "Dados do Case"
      ]
    },
    {
      "cell_type": "code",
      "metadata": {
        "id": "DZ4SUs86j28S"
      },
      "source": [
        "fonte = \"https://github.com/ChapeuG/CASE-ANALISTA-DE-DADOS/blob/main/Dados/CASE.xlsx?raw=true\"\n",
        "case = pd.read_excel(fonte,convert_float = False)"
      ],
      "execution_count": 76,
      "outputs": []
    },
    {
      "cell_type": "code",
      "metadata": {
        "colab": {
          "base_uri": "https://localhost:8080/",
          "height": 507
        },
        "id": "WYTvGQ6QOqxy",
        "outputId": "b46f4c73-c3d4-44ba-8091-902c6452d1c1"
      },
      "source": [
        "case"
      ],
      "execution_count": 77,
      "outputs": [
        {
          "output_type": "execute_result",
          "data": {
            "text/html": [
              "<div>\n",
              "<style scoped>\n",
              "    .dataframe tbody tr th:only-of-type {\n",
              "        vertical-align: middle;\n",
              "    }\n",
              "\n",
              "    .dataframe tbody tr th {\n",
              "        vertical-align: top;\n",
              "    }\n",
              "\n",
              "    .dataframe thead th {\n",
              "        text-align: right;\n",
              "    }\n",
              "</style>\n",
              "<table border=\"1\" class=\"dataframe\">\n",
              "  <thead>\n",
              "    <tr style=\"text-align: right;\">\n",
              "      <th></th>\n",
              "      <th>UF</th>\n",
              "      <th>MUNICIPIO</th>\n",
              "      <th>Total_Postos</th>\n",
              "      <th>Total_PAE</th>\n",
              "      <th>Total_Agências</th>\n",
              "      <th>Populacao</th>\n",
              "      <th>Coeficiente de ajuste populacional</th>\n",
              "      <th>IDHM</th>\n",
              "      <th>Nível de bancarização</th>\n",
              "      <th>Teledensidade estadual</th>\n",
              "    </tr>\n",
              "  </thead>\n",
              "  <tbody>\n",
              "    <tr>\n",
              "      <th>0</th>\n",
              "      <td>GO</td>\n",
              "      <td>ABADIA DE GOIAS</td>\n",
              "      <td>2.000000</td>\n",
              "      <td>2.000000</td>\n",
              "      <td>nan</td>\n",
              "      <td>8958.000000</td>\n",
              "      <td>10.000000</td>\n",
              "      <td>0.708000</td>\n",
              "      <td>0.000447</td>\n",
              "      <td>0.407122</td>\n",
              "    </tr>\n",
              "    <tr>\n",
              "      <th>1</th>\n",
              "      <td>MG</td>\n",
              "      <td>ABADIA DOS DOURADOS</td>\n",
              "      <td>2.000000</td>\n",
              "      <td>1.000000</td>\n",
              "      <td>nan</td>\n",
              "      <td>7006.000000</td>\n",
              "      <td>10.000000</td>\n",
              "      <td>0.689000</td>\n",
              "      <td>0.000428</td>\n",
              "      <td>0.225949</td>\n",
              "    </tr>\n",
              "    <tr>\n",
              "      <th>2</th>\n",
              "      <td>GO</td>\n",
              "      <td>ABADIANIA</td>\n",
              "      <td>1.000000</td>\n",
              "      <td>2.000000</td>\n",
              "      <td>2.000000</td>\n",
              "      <td>20461.000000</td>\n",
              "      <td>15.000000</td>\n",
              "      <td>0.689000</td>\n",
              "      <td>0.000244</td>\n",
              "      <td>0.178242</td>\n",
              "    </tr>\n",
              "    <tr>\n",
              "      <th>3</th>\n",
              "      <td>MG</td>\n",
              "      <td>ABAETE</td>\n",
              "      <td>2.000000</td>\n",
              "      <td>6.000000</td>\n",
              "      <td>3.000000</td>\n",
              "      <td>23250.000000</td>\n",
              "      <td>15.000000</td>\n",
              "      <td>0.698000</td>\n",
              "      <td>0.000473</td>\n",
              "      <td>0.068086</td>\n",
              "    </tr>\n",
              "    <tr>\n",
              "      <th>4</th>\n",
              "      <td>PA</td>\n",
              "      <td>ABAETETUBA</td>\n",
              "      <td>1.000000</td>\n",
              "      <td>15.000000</td>\n",
              "      <td>7.000000</td>\n",
              "      <td>159080.000000</td>\n",
              "      <td>20.000000</td>\n",
              "      <td>0.628000</td>\n",
              "      <td>0.000145</td>\n",
              "      <td>0.011611</td>\n",
              "    </tr>\n",
              "    <tr>\n",
              "      <th>...</th>\n",
              "      <td>...</td>\n",
              "      <td>...</td>\n",
              "      <td>...</td>\n",
              "      <td>...</td>\n",
              "      <td>...</td>\n",
              "      <td>...</td>\n",
              "      <td>...</td>\n",
              "      <td>...</td>\n",
              "      <td>...</td>\n",
              "      <td>...</td>\n",
              "    </tr>\n",
              "    <tr>\n",
              "      <th>4963</th>\n",
              "      <td>PA</td>\n",
              "      <td>XINGUARA</td>\n",
              "      <td>1.000000</td>\n",
              "      <td>5.000000</td>\n",
              "      <td>5.000000</td>\n",
              "      <td>45086.000000</td>\n",
              "      <td>15.000000</td>\n",
              "      <td>0.552000</td>\n",
              "      <td>0.000244</td>\n",
              "      <td>0.040966</td>\n",
              "    </tr>\n",
              "    <tr>\n",
              "      <th>4964</th>\n",
              "      <td>BA</td>\n",
              "      <td>XIQUE-XIQUE</td>\n",
              "      <td>nan</td>\n",
              "      <td>3.000000</td>\n",
              "      <td>4.000000</td>\n",
              "      <td>46523.000000</td>\n",
              "      <td>15.000000</td>\n",
              "      <td>0.646000</td>\n",
              "      <td>0.000150</td>\n",
              "      <td>0.084474</td>\n",
              "    </tr>\n",
              "    <tr>\n",
              "      <th>4965</th>\n",
              "      <td>SP</td>\n",
              "      <td>ZACARIAS</td>\n",
              "      <td>2.000000</td>\n",
              "      <td>2.000000</td>\n",
              "      <td>nan</td>\n",
              "      <td>2752.000000</td>\n",
              "      <td>5.000000</td>\n",
              "      <td>0.623000</td>\n",
              "      <td>0.001453</td>\n",
              "      <td>0.244549</td>\n",
              "    </tr>\n",
              "    <tr>\n",
              "      <th>4966</th>\n",
              "      <td>MA</td>\n",
              "      <td>ZE DOCA</td>\n",
              "      <td>nan</td>\n",
              "      <td>3.000000</td>\n",
              "      <td>4.000000</td>\n",
              "      <td>51956.000000</td>\n",
              "      <td>15.000000</td>\n",
              "      <td>0.729000</td>\n",
              "      <td>0.000135</td>\n",
              "      <td>0.023116</td>\n",
              "    </tr>\n",
              "    <tr>\n",
              "      <th>4967</th>\n",
              "      <td>MA</td>\n",
              "      <td>ZORTEA</td>\n",
              "      <td>3.000000</td>\n",
              "      <td>nan</td>\n",
              "      <td>nan</td>\n",
              "      <td>51956.000000</td>\n",
              "      <td>15.000000</td>\n",
              "      <td>0.595000</td>\n",
              "      <td>0.000058</td>\n",
              "      <td>0.023116</td>\n",
              "    </tr>\n",
              "  </tbody>\n",
              "</table>\n",
              "<p>4968 rows × 10 columns</p>\n",
              "</div>"
            ],
            "text/plain": [
              "      UF             MUNICIPIO  ...  Nível de bancarização  Teledensidade estadual\n",
              "0     GO      ABADIA DE GOIAS   ...               0.000447                0.407122\n",
              "1     MG  ABADIA DOS DOURADOS   ...               0.000428                0.225949\n",
              "2     GO            ABADIANIA   ...               0.000244                0.178242\n",
              "3     MG                ABAETE  ...               0.000473                0.068086\n",
              "4     PA            ABAETETUBA  ...               0.000145                0.011611\n",
              "...   ..                   ...  ...                    ...                     ...\n",
              "4963  PA              XINGUARA  ...               0.000244                0.040966\n",
              "4964  BA          XIQUE-XIQUE   ...               0.000150                0.084474\n",
              "4965  SP              ZACARIAS  ...               0.001453                0.244549\n",
              "4966  MA              ZE DOCA   ...               0.000135                0.023116\n",
              "4967  MA                ZORTEA  ...               0.000058                0.023116\n",
              "\n",
              "[4968 rows x 10 columns]"
            ]
          },
          "metadata": {
            "tags": []
          },
          "execution_count": 77
        }
      ]
    },
    {
      "cell_type": "markdown",
      "metadata": {
        "id": "RvTlQUSqnMUF"
      },
      "source": [
        "##Tratamento da base de dados"
      ]
    },
    {
      "cell_type": "markdown",
      "metadata": {
        "id": "7-Oihpr1n_xp"
      },
      "source": [
        "Algumas colunas apresentam espaço em seus nomes, para não atrapalhar a análise, vou estar removendo esses espaços"
      ]
    },
    {
      "cell_type": "code",
      "metadata": {
        "id": "giy5MQzJsb9Z"
      },
      "source": [
        "dados_postos.columns = dados_postos.columns.str.strip()\n",
        "dados_pae.columns = dados_pae.columns.str.strip()\n",
        "dados_agencias.columns = dados_agencias.columns.str.strip()"
      ],
      "execution_count": 78,
      "outputs": []
    },
    {
      "cell_type": "markdown",
      "metadata": {
        "id": "yhMQd_VN6ThJ"
      },
      "source": [
        "Escolhendo quantas casas decimais vou utilizar"
      ]
    },
    {
      "cell_type": "code",
      "metadata": {
        "id": "MaiRfb0d-q_I"
      },
      "source": [
        "pd.options.display.float_format = \"{:.6f}\".format"
      ],
      "execution_count": 79,
      "outputs": []
    },
    {
      "cell_type": "markdown",
      "metadata": {
        "id": "d3UCb6z58KPn"
      },
      "source": [
        "#Desenvolvimento"
      ]
    },
    {
      "cell_type": "markdown",
      "metadata": {
        "id": "HtAodAwjPC3z"
      },
      "source": [
        "***\n",
        "Abaixo eu realizo a criação de um novo DATAFRAME para visualização dos dados.\n",
        "Também realizo a soma das agências, postos de atendimento e postos de atendimento eletronico daquele municipio."
      ]
    },
    {
      "cell_type": "code",
      "metadata": {
        "id": "bGx8W9nu34m5"
      },
      "source": [
        "#Contagem do total de postos de atendimento por estado \n",
        "dados_postos_contagem = dados_postos['MUNICIPIO'].value_counts(ascending=False) \n",
        "#Contagem do total de postos de atendimento eletronico por estado \n",
        "dados_pae_contagem = dados_pae['MUNICIPIO'].value_counts(ascending=False)\n",
        "#Contagem do total de agencias por estado \n",
        "dados_agencias_contagem = dados_agencias['MUNICíPIO'].value_counts(ascending=False)"
      ],
      "execution_count": 80,
      "outputs": []
    },
    {
      "cell_type": "code",
      "metadata": {
        "id": "ygE5-TlczOws"
      },
      "source": [
        "contagem = pd.DataFrame({'Total_Postos' : dados_postos_contagem,'Total_PAE' : dados_pae_contagem,'Total_Agências' : dados_agencias_contagem})\n",
        "contagem.reset_index(drop=False, inplace= True)\n",
        "contagem.rename({'index' : 'MUNICIPIO'}, axis=1, inplace= True)"
      ],
      "execution_count": 81,
      "outputs": []
    },
    {
      "cell_type": "code",
      "metadata": {
        "id": "rYvcRmCTv2qX"
      },
      "source": [
        "contagem = contagem.set_index('MUNICIPIO')\n",
        "contagem = contagem.sort_values('MUNICIPIO',ascending=True)\n",
        "contagem =contagem.drop([\"13080-650\", \"76450-000\"])\n",
        "contagem.reset_index(inplace=True)"
      ],
      "execution_count": 82,
      "outputs": []
    },
    {
      "cell_type": "code",
      "metadata": {
        "colab": {
          "base_uri": "https://localhost:8080/",
          "height": 419
        },
        "id": "7OIToIEZyarT",
        "outputId": "f921d7f3-c4dd-4925-e17a-dcf6fab16bf8"
      },
      "source": [
        "contagem"
      ],
      "execution_count": 83,
      "outputs": [
        {
          "output_type": "execute_result",
          "data": {
            "text/html": [
              "<div>\n",
              "<style scoped>\n",
              "    .dataframe tbody tr th:only-of-type {\n",
              "        vertical-align: middle;\n",
              "    }\n",
              "\n",
              "    .dataframe tbody tr th {\n",
              "        vertical-align: top;\n",
              "    }\n",
              "\n",
              "    .dataframe thead th {\n",
              "        text-align: right;\n",
              "    }\n",
              "</style>\n",
              "<table border=\"1\" class=\"dataframe\">\n",
              "  <thead>\n",
              "    <tr style=\"text-align: right;\">\n",
              "      <th></th>\n",
              "      <th>MUNICIPIO</th>\n",
              "      <th>Total_Postos</th>\n",
              "      <th>Total_PAE</th>\n",
              "      <th>Total_Agências</th>\n",
              "    </tr>\n",
              "  </thead>\n",
              "  <tbody>\n",
              "    <tr>\n",
              "      <th>0</th>\n",
              "      <td>ABADIA DE GOIAS</td>\n",
              "      <td>2.000000</td>\n",
              "      <td>2.000000</td>\n",
              "      <td>nan</td>\n",
              "    </tr>\n",
              "    <tr>\n",
              "      <th>1</th>\n",
              "      <td>ABADIA DOS DOURADOS</td>\n",
              "      <td>2.000000</td>\n",
              "      <td>1.000000</td>\n",
              "      <td>nan</td>\n",
              "    </tr>\n",
              "    <tr>\n",
              "      <th>2</th>\n",
              "      <td>ABADIANIA</td>\n",
              "      <td>1.000000</td>\n",
              "      <td>2.000000</td>\n",
              "      <td>2.000000</td>\n",
              "    </tr>\n",
              "    <tr>\n",
              "      <th>3</th>\n",
              "      <td>ABAETE</td>\n",
              "      <td>2.000000</td>\n",
              "      <td>6.000000</td>\n",
              "      <td>3.000000</td>\n",
              "    </tr>\n",
              "    <tr>\n",
              "      <th>4</th>\n",
              "      <td>ABAETETUBA</td>\n",
              "      <td>1.000000</td>\n",
              "      <td>15.000000</td>\n",
              "      <td>7.000000</td>\n",
              "    </tr>\n",
              "    <tr>\n",
              "      <th>...</th>\n",
              "      <td>...</td>\n",
              "      <td>...</td>\n",
              "      <td>...</td>\n",
              "      <td>...</td>\n",
              "    </tr>\n",
              "    <tr>\n",
              "      <th>4963</th>\n",
              "      <td>XINGUARA</td>\n",
              "      <td>1.000000</td>\n",
              "      <td>5.000000</td>\n",
              "      <td>5.000000</td>\n",
              "    </tr>\n",
              "    <tr>\n",
              "      <th>4964</th>\n",
              "      <td>XIQUE-XIQUE</td>\n",
              "      <td>nan</td>\n",
              "      <td>3.000000</td>\n",
              "      <td>4.000000</td>\n",
              "    </tr>\n",
              "    <tr>\n",
              "      <th>4965</th>\n",
              "      <td>ZACARIAS</td>\n",
              "      <td>2.000000</td>\n",
              "      <td>2.000000</td>\n",
              "      <td>nan</td>\n",
              "    </tr>\n",
              "    <tr>\n",
              "      <th>4966</th>\n",
              "      <td>ZE DOCA</td>\n",
              "      <td>nan</td>\n",
              "      <td>3.000000</td>\n",
              "      <td>4.000000</td>\n",
              "    </tr>\n",
              "    <tr>\n",
              "      <th>4967</th>\n",
              "      <td>ZORTEA</td>\n",
              "      <td>3.000000</td>\n",
              "      <td>nan</td>\n",
              "      <td>nan</td>\n",
              "    </tr>\n",
              "  </tbody>\n",
              "</table>\n",
              "<p>4968 rows × 4 columns</p>\n",
              "</div>"
            ],
            "text/plain": [
              "                 MUNICIPIO  Total_Postos  Total_PAE  Total_Agências\n",
              "0         ABADIA DE GOIAS       2.000000   2.000000             nan\n",
              "1     ABADIA DOS DOURADOS       2.000000   1.000000             nan\n",
              "2               ABADIANIA       1.000000   2.000000        2.000000\n",
              "3                   ABAETE      2.000000   6.000000        3.000000\n",
              "4               ABAETETUBA      1.000000  15.000000        7.000000\n",
              "...                    ...           ...        ...             ...\n",
              "4963              XINGUARA      1.000000   5.000000        5.000000\n",
              "4964          XIQUE-XIQUE            nan   3.000000        4.000000\n",
              "4965              ZACARIAS      2.000000   2.000000             nan\n",
              "4966              ZE DOCA            nan   3.000000        4.000000\n",
              "4967                ZORTEA      3.000000        nan             nan\n",
              "\n",
              "[4968 rows x 4 columns]"
            ]
          },
          "metadata": {
            "tags": []
          },
          "execution_count": 83
        }
      ]
    },
    {
      "cell_type": "markdown",
      "metadata": {
        "id": "L7yyMTvMXw7t"
      },
      "source": [
        "***\n",
        "Salvando o arquivo em csv e realizando modificações como adição de :\n",
        "\n",
        "* UF\n",
        "* População\n",
        "* IDHM\n",
        "* Nível de bancarização\n",
        "* Teledensidade estadual\n",
        "***\n"
      ]
    },
    {
      "cell_type": "code",
      "metadata": {
        "id": "3_qbaSfP8pmP"
      },
      "source": [
        "contagem.set_index('MUNICIPIO', inplace=True)"
      ],
      "execution_count": 84,
      "outputs": []
    },
    {
      "cell_type": "code",
      "metadata": {
        "id": "zpQ3lf06hd5W"
      },
      "source": [
        "contagem.to_csv(\"contagem\", sep='\\t',decimal= ',', encoding='ISO-8859-1')"
      ],
      "execution_count": 85,
      "outputs": []
    },
    {
      "cell_type": "markdown",
      "metadata": {
        "id": "z3X7nomhTXu9"
      },
      "source": [
        "##Cálculos"
      ]
    },
    {
      "cell_type": "code",
      "metadata": {
        "id": "1U8vSZKopjWq",
        "colab": {
          "base_uri": "https://localhost:8080/",
          "height": 292
        },
        "outputId": "783f4ca0-5f2d-4bce-86f3-25b0ec19e79c"
      },
      "source": [
        "def get_regiao(row):\n",
        "    cp = row['Populacao']\n",
        "    if cp < 5000:\n",
        "        return 5\n",
        "        print(5)\n",
        "    elif cp >=5000 and cp<20000:\n",
        "        return  10\n",
        "    elif cp >=20000 and cp<100000:\n",
        "        return  15\n",
        "    elif cp >=100000 and cp<500000:\n",
        "        return  20\n",
        "    elif cp<500000:\n",
        "        return  25\n",
        "\n",
        "case['Coeficiente de ajuste populacional'] = case.apply(get_regiao, axis=1)\n",
        "case.head()"
      ],
      "execution_count": 86,
      "outputs": [
        {
          "output_type": "execute_result",
          "data": {
            "text/html": [
              "<div>\n",
              "<style scoped>\n",
              "    .dataframe tbody tr th:only-of-type {\n",
              "        vertical-align: middle;\n",
              "    }\n",
              "\n",
              "    .dataframe tbody tr th {\n",
              "        vertical-align: top;\n",
              "    }\n",
              "\n",
              "    .dataframe thead th {\n",
              "        text-align: right;\n",
              "    }\n",
              "</style>\n",
              "<table border=\"1\" class=\"dataframe\">\n",
              "  <thead>\n",
              "    <tr style=\"text-align: right;\">\n",
              "      <th></th>\n",
              "      <th>UF</th>\n",
              "      <th>MUNICIPIO</th>\n",
              "      <th>Total_Postos</th>\n",
              "      <th>Total_PAE</th>\n",
              "      <th>Total_Agências</th>\n",
              "      <th>Populacao</th>\n",
              "      <th>Coeficiente de ajuste populacional</th>\n",
              "      <th>IDHM</th>\n",
              "      <th>Nível de bancarização</th>\n",
              "      <th>Teledensidade estadual</th>\n",
              "    </tr>\n",
              "  </thead>\n",
              "  <tbody>\n",
              "    <tr>\n",
              "      <th>0</th>\n",
              "      <td>GO</td>\n",
              "      <td>ABADIA DE GOIAS</td>\n",
              "      <td>2.000000</td>\n",
              "      <td>2.000000</td>\n",
              "      <td>nan</td>\n",
              "      <td>8958.000000</td>\n",
              "      <td>10.000000</td>\n",
              "      <td>0.708000</td>\n",
              "      <td>0.000447</td>\n",
              "      <td>0.407122</td>\n",
              "    </tr>\n",
              "    <tr>\n",
              "      <th>1</th>\n",
              "      <td>MG</td>\n",
              "      <td>ABADIA DOS DOURADOS</td>\n",
              "      <td>2.000000</td>\n",
              "      <td>1.000000</td>\n",
              "      <td>nan</td>\n",
              "      <td>7006.000000</td>\n",
              "      <td>10.000000</td>\n",
              "      <td>0.689000</td>\n",
              "      <td>0.000428</td>\n",
              "      <td>0.225949</td>\n",
              "    </tr>\n",
              "    <tr>\n",
              "      <th>2</th>\n",
              "      <td>GO</td>\n",
              "      <td>ABADIANIA</td>\n",
              "      <td>1.000000</td>\n",
              "      <td>2.000000</td>\n",
              "      <td>2.000000</td>\n",
              "      <td>20461.000000</td>\n",
              "      <td>15.000000</td>\n",
              "      <td>0.689000</td>\n",
              "      <td>0.000244</td>\n",
              "      <td>0.178242</td>\n",
              "    </tr>\n",
              "    <tr>\n",
              "      <th>3</th>\n",
              "      <td>MG</td>\n",
              "      <td>ABAETE</td>\n",
              "      <td>2.000000</td>\n",
              "      <td>6.000000</td>\n",
              "      <td>3.000000</td>\n",
              "      <td>23250.000000</td>\n",
              "      <td>15.000000</td>\n",
              "      <td>0.698000</td>\n",
              "      <td>0.000473</td>\n",
              "      <td>0.068086</td>\n",
              "    </tr>\n",
              "    <tr>\n",
              "      <th>4</th>\n",
              "      <td>PA</td>\n",
              "      <td>ABAETETUBA</td>\n",
              "      <td>1.000000</td>\n",
              "      <td>15.000000</td>\n",
              "      <td>7.000000</td>\n",
              "      <td>159080.000000</td>\n",
              "      <td>20.000000</td>\n",
              "      <td>0.628000</td>\n",
              "      <td>0.000145</td>\n",
              "      <td>0.011611</td>\n",
              "    </tr>\n",
              "  </tbody>\n",
              "</table>\n",
              "</div>"
            ],
            "text/plain": [
              "   UF             MUNICIPIO  ...  Nível de bancarização  Teledensidade estadual\n",
              "0  GO      ABADIA DE GOIAS   ...               0.000447                0.407122\n",
              "1  MG  ABADIA DOS DOURADOS   ...               0.000428                0.225949\n",
              "2  GO            ABADIANIA   ...               0.000244                0.178242\n",
              "3  MG                ABAETE  ...               0.000473                0.068086\n",
              "4  PA            ABAETETUBA  ...               0.000145                0.011611\n",
              "\n",
              "[5 rows x 10 columns]"
            ]
          },
          "metadata": {
            "tags": []
          },
          "execution_count": 86
        }
      ]
    },
    {
      "cell_type": "code",
      "metadata": {
        "id": "RGBMi_KWsuET"
      },
      "source": [
        "case['Probabilidade_de_conversão'] = round((case['IDHM']**case['Coeficiente de ajuste populacional'])*\n",
        "                                      ((case['Teledensidade estadual']/1.5)*100),2)"
      ],
      "execution_count": 87,
      "outputs": []
    },
    {
      "cell_type": "code",
      "metadata": {
        "colab": {
          "base_uri": "https://localhost:8080/",
          "height": 419
        },
        "id": "vTx4vHG7FnHb",
        "outputId": "9bb7f87e-da3e-4bdc-d37a-4a33e9793817"
      },
      "source": [
        "case[['UF','Probabilidade_de_conversão']]"
      ],
      "execution_count": 88,
      "outputs": [
        {
          "output_type": "execute_result",
          "data": {
            "text/html": [
              "<div>\n",
              "<style scoped>\n",
              "    .dataframe tbody tr th:only-of-type {\n",
              "        vertical-align: middle;\n",
              "    }\n",
              "\n",
              "    .dataframe tbody tr th {\n",
              "        vertical-align: top;\n",
              "    }\n",
              "\n",
              "    .dataframe thead th {\n",
              "        text-align: right;\n",
              "    }\n",
              "</style>\n",
              "<table border=\"1\" class=\"dataframe\">\n",
              "  <thead>\n",
              "    <tr style=\"text-align: right;\">\n",
              "      <th></th>\n",
              "      <th>UF</th>\n",
              "      <th>Probabilidade_de_conversão</th>\n",
              "    </tr>\n",
              "  </thead>\n",
              "  <tbody>\n",
              "    <tr>\n",
              "      <th>0</th>\n",
              "      <td>GO</td>\n",
              "      <td>0.860000</td>\n",
              "    </tr>\n",
              "    <tr>\n",
              "      <th>1</th>\n",
              "      <td>MG</td>\n",
              "      <td>0.360000</td>\n",
              "    </tr>\n",
              "    <tr>\n",
              "      <th>2</th>\n",
              "      <td>GO</td>\n",
              "      <td>0.040000</td>\n",
              "    </tr>\n",
              "    <tr>\n",
              "      <th>3</th>\n",
              "      <td>MG</td>\n",
              "      <td>0.020000</td>\n",
              "    </tr>\n",
              "    <tr>\n",
              "      <th>4</th>\n",
              "      <td>PA</td>\n",
              "      <td>0.000000</td>\n",
              "    </tr>\n",
              "    <tr>\n",
              "      <th>...</th>\n",
              "      <td>...</td>\n",
              "      <td>...</td>\n",
              "    </tr>\n",
              "    <tr>\n",
              "      <th>4963</th>\n",
              "      <td>PA</td>\n",
              "      <td>0.000000</td>\n",
              "    </tr>\n",
              "    <tr>\n",
              "      <th>4964</th>\n",
              "      <td>BA</td>\n",
              "      <td>0.010000</td>\n",
              "    </tr>\n",
              "    <tr>\n",
              "      <th>4965</th>\n",
              "      <td>SP</td>\n",
              "      <td>1.530000</td>\n",
              "    </tr>\n",
              "    <tr>\n",
              "      <th>4966</th>\n",
              "      <td>MA</td>\n",
              "      <td>0.010000</td>\n",
              "    </tr>\n",
              "    <tr>\n",
              "      <th>4967</th>\n",
              "      <td>MA</td>\n",
              "      <td>0.000000</td>\n",
              "    </tr>\n",
              "  </tbody>\n",
              "</table>\n",
              "<p>4968 rows × 2 columns</p>\n",
              "</div>"
            ],
            "text/plain": [
              "      UF  Probabilidade_de_conversão\n",
              "0     GO                    0.860000\n",
              "1     MG                    0.360000\n",
              "2     GO                    0.040000\n",
              "3     MG                    0.020000\n",
              "4     PA                    0.000000\n",
              "...   ..                         ...\n",
              "4963  PA                    0.000000\n",
              "4964  BA                    0.010000\n",
              "4965  SP                    1.530000\n",
              "4966  MA                    0.010000\n",
              "4967  MA                    0.000000\n",
              "\n",
              "[4968 rows x 2 columns]"
            ]
          },
          "metadata": {
            "tags": []
          },
          "execution_count": 88
        }
      ]
    },
    {
      "cell_type": "markdown",
      "metadata": {
        "id": "Hsv7oPSfu6Yt"
      },
      "source": [
        "Cálculo para saber a quantidade de clientes convertidos"
      ]
    },
    {
      "cell_type": "code",
      "metadata": {
        "id": "6ziFe183st9x"
      },
      "source": [
        "case['Clientes_Convertidos'] = round((case['Probabilidade_de_conversão']/100)*case['Populacao'])"
      ],
      "execution_count": 89,
      "outputs": []
    },
    {
      "cell_type": "code",
      "metadata": {
        "colab": {
          "base_uri": "https://localhost:8080/",
          "height": 419
        },
        "id": "ulkw8MZlGlu8",
        "outputId": "21802d94-a398-45ef-ee41-0db487252922"
      },
      "source": [
        "case[['UF','Clientes_Convertidos']]"
      ],
      "execution_count": 90,
      "outputs": [
        {
          "output_type": "execute_result",
          "data": {
            "text/html": [
              "<div>\n",
              "<style scoped>\n",
              "    .dataframe tbody tr th:only-of-type {\n",
              "        vertical-align: middle;\n",
              "    }\n",
              "\n",
              "    .dataframe tbody tr th {\n",
              "        vertical-align: top;\n",
              "    }\n",
              "\n",
              "    .dataframe thead th {\n",
              "        text-align: right;\n",
              "    }\n",
              "</style>\n",
              "<table border=\"1\" class=\"dataframe\">\n",
              "  <thead>\n",
              "    <tr style=\"text-align: right;\">\n",
              "      <th></th>\n",
              "      <th>UF</th>\n",
              "      <th>Clientes_Convertidos</th>\n",
              "    </tr>\n",
              "  </thead>\n",
              "  <tbody>\n",
              "    <tr>\n",
              "      <th>0</th>\n",
              "      <td>GO</td>\n",
              "      <td>77.000000</td>\n",
              "    </tr>\n",
              "    <tr>\n",
              "      <th>1</th>\n",
              "      <td>MG</td>\n",
              "      <td>25.000000</td>\n",
              "    </tr>\n",
              "    <tr>\n",
              "      <th>2</th>\n",
              "      <td>GO</td>\n",
              "      <td>8.000000</td>\n",
              "    </tr>\n",
              "    <tr>\n",
              "      <th>3</th>\n",
              "      <td>MG</td>\n",
              "      <td>5.000000</td>\n",
              "    </tr>\n",
              "    <tr>\n",
              "      <th>4</th>\n",
              "      <td>PA</td>\n",
              "      <td>0.000000</td>\n",
              "    </tr>\n",
              "    <tr>\n",
              "      <th>...</th>\n",
              "      <td>...</td>\n",
              "      <td>...</td>\n",
              "    </tr>\n",
              "    <tr>\n",
              "      <th>4963</th>\n",
              "      <td>PA</td>\n",
              "      <td>0.000000</td>\n",
              "    </tr>\n",
              "    <tr>\n",
              "      <th>4964</th>\n",
              "      <td>BA</td>\n",
              "      <td>5.000000</td>\n",
              "    </tr>\n",
              "    <tr>\n",
              "      <th>4965</th>\n",
              "      <td>SP</td>\n",
              "      <td>42.000000</td>\n",
              "    </tr>\n",
              "    <tr>\n",
              "      <th>4966</th>\n",
              "      <td>MA</td>\n",
              "      <td>5.000000</td>\n",
              "    </tr>\n",
              "    <tr>\n",
              "      <th>4967</th>\n",
              "      <td>MA</td>\n",
              "      <td>0.000000</td>\n",
              "    </tr>\n",
              "  </tbody>\n",
              "</table>\n",
              "<p>4968 rows × 2 columns</p>\n",
              "</div>"
            ],
            "text/plain": [
              "      UF  Clientes_Convertidos\n",
              "0     GO             77.000000\n",
              "1     MG             25.000000\n",
              "2     GO              8.000000\n",
              "3     MG              5.000000\n",
              "4     PA              0.000000\n",
              "...   ..                   ...\n",
              "4963  PA              0.000000\n",
              "4964  BA              5.000000\n",
              "4965  SP             42.000000\n",
              "4966  MA              5.000000\n",
              "4967  MA              0.000000\n",
              "\n",
              "[4968 rows x 2 columns]"
            ]
          },
          "metadata": {
            "tags": []
          },
          "execution_count": 90
        }
      ]
    },
    {
      "cell_type": "markdown",
      "metadata": {
        "id": "7oXhvFl_bKpS"
      },
      "source": [
        "Em algumas cidades o numero de clientes convertidos fica extremamente próximo do zero, o que acaba não sendo útil para o objetivo final.\n",
        "\n",
        "Por conta disso vou estar removendo essas cidades do meu Dataframe."
      ]
    },
    {
      "cell_type": "code",
      "metadata": {
        "id": "D3oA77o4p9CC"
      },
      "source": [
        "case = case.query('Clientes_Convertidos > 0')"
      ],
      "execution_count": 91,
      "outputs": []
    },
    {
      "cell_type": "code",
      "metadata": {
        "id": "1SmLoqeMjuCT"
      },
      "source": [
        "case_Filtro = case[['MUNICIPIO','UF','Populacao','Nível de bancarização','Clientes_Convertidos']]"
      ],
      "execution_count": 92,
      "outputs": []
    },
    {
      "cell_type": "code",
      "metadata": {
        "colab": {
          "base_uri": "https://localhost:8080/",
          "height": 419
        },
        "id": "C9_kGQ2x798K",
        "outputId": "4d8d2297-8646-45e9-e1eb-a18e197d32bd"
      },
      "source": [
        "case_Filtro =case_Filtro.sort_values('Nível de bancarização',ascending=True)\n",
        "case_Filtro"
      ],
      "execution_count": 93,
      "outputs": [
        {
          "output_type": "execute_result",
          "data": {
            "text/html": [
              "<div>\n",
              "<style scoped>\n",
              "    .dataframe tbody tr th:only-of-type {\n",
              "        vertical-align: middle;\n",
              "    }\n",
              "\n",
              "    .dataframe tbody tr th {\n",
              "        vertical-align: top;\n",
              "    }\n",
              "\n",
              "    .dataframe thead th {\n",
              "        text-align: right;\n",
              "    }\n",
              "</style>\n",
              "<table border=\"1\" class=\"dataframe\">\n",
              "  <thead>\n",
              "    <tr style=\"text-align: right;\">\n",
              "      <th></th>\n",
              "      <th>MUNICIPIO</th>\n",
              "      <th>UF</th>\n",
              "      <th>Populacao</th>\n",
              "      <th>Nível de bancarização</th>\n",
              "      <th>Clientes_Convertidos</th>\n",
              "    </tr>\n",
              "  </thead>\n",
              "  <tbody>\n",
              "    <tr>\n",
              "      <th>3109</th>\n",
              "      <td>OLHO D'AGUA</td>\n",
              "      <td>SE</td>\n",
              "      <td>450785.000000</td>\n",
              "      <td>0.000004</td>\n",
              "      <td>225.000000</td>\n",
              "    </tr>\n",
              "    <tr>\n",
              "      <th>299</th>\n",
              "      <td>ARAMBARE</td>\n",
              "      <td>BA</td>\n",
              "      <td>198129.000000</td>\n",
              "      <td>0.000005</td>\n",
              "      <td>20.000000</td>\n",
              "    </tr>\n",
              "    <tr>\n",
              "      <th>474</th>\n",
              "      <td>BARRA DO CHAPEU</td>\n",
              "      <td>CE</td>\n",
              "      <td>95929.000000</td>\n",
              "      <td>0.000010</td>\n",
              "      <td>19.000000</td>\n",
              "    </tr>\n",
              "    <tr>\n",
              "      <th>3567</th>\n",
              "      <td>PORTO AMAZONAS</td>\n",
              "      <td>PA</td>\n",
              "      <td>93862.000000</td>\n",
              "      <td>0.000011</td>\n",
              "      <td>9.000000</td>\n",
              "    </tr>\n",
              "    <tr>\n",
              "      <th>314</th>\n",
              "      <td>ARARA</td>\n",
              "      <td>MT</td>\n",
              "      <td>183381.000000</td>\n",
              "      <td>0.000011</td>\n",
              "      <td>18.000000</td>\n",
              "    </tr>\n",
              "    <tr>\n",
              "      <th>...</th>\n",
              "      <td>...</td>\n",
              "      <td>...</td>\n",
              "      <td>...</td>\n",
              "      <td>...</td>\n",
              "      <td>...</td>\n",
              "    </tr>\n",
              "    <tr>\n",
              "      <th>2616</th>\n",
              "      <td>MANAUS</td>\n",
              "      <td>MT</td>\n",
              "      <td>4889.000000</td>\n",
              "      <td>0.129474</td>\n",
              "      <td>1052.000000</td>\n",
              "    </tr>\n",
              "    <tr>\n",
              "      <th>537</th>\n",
              "      <td>BELO HORIZONTE</td>\n",
              "      <td>PI</td>\n",
              "      <td>5256.000000</td>\n",
              "      <td>0.226027</td>\n",
              "      <td>64.000000</td>\n",
              "    </tr>\n",
              "    <tr>\n",
              "      <th>3564</th>\n",
              "      <td>PORTO ALEGRE</td>\n",
              "      <td>RJ</td>\n",
              "      <td>3937.000000</td>\n",
              "      <td>0.281941</td>\n",
              "      <td>1517.000000</td>\n",
              "    </tr>\n",
              "    <tr>\n",
              "      <th>3788</th>\n",
              "      <td>RIO DE JANEIRO</td>\n",
              "      <td>MG</td>\n",
              "      <td>4955.000000</td>\n",
              "      <td>0.563673</td>\n",
              "      <td>84.000000</td>\n",
              "    </tr>\n",
              "    <tr>\n",
              "      <th>4336</th>\n",
              "      <td>SAO PAULO</td>\n",
              "      <td>MA</td>\n",
              "      <td>5679.000000</td>\n",
              "      <td>0.949639</td>\n",
              "      <td>26.000000</td>\n",
              "    </tr>\n",
              "  </tbody>\n",
              "</table>\n",
              "<p>4002 rows × 5 columns</p>\n",
              "</div>"
            ],
            "text/plain": [
              "             MUNICIPIO  UF  ...  Nível de bancarização  Clientes_Convertidos\n",
              "3109      OLHO D'AGUA   SE  ...               0.000004            225.000000\n",
              "299           ARAMBARE  BA  ...               0.000005             20.000000\n",
              "474   BARRA DO CHAPEU   CE  ...               0.000010             19.000000\n",
              "3567    PORTO AMAZONAS  PA  ...               0.000011              9.000000\n",
              "314             ARARA   MT  ...               0.000011             18.000000\n",
              "...                ...  ..  ...                    ...                   ...\n",
              "2616            MANAUS  MT  ...               0.129474           1052.000000\n",
              "537     BELO HORIZONTE  PI  ...               0.226027             64.000000\n",
              "3564      PORTO ALEGRE  RJ  ...               0.281941           1517.000000\n",
              "3788    RIO DE JANEIRO  MG  ...               0.563673             84.000000\n",
              "4336        SAO PAULO   MA  ...               0.949639             26.000000\n",
              "\n",
              "[4002 rows x 5 columns]"
            ]
          },
          "metadata": {
            "tags": []
          },
          "execution_count": 93
        }
      ]
    },
    {
      "cell_type": "markdown",
      "metadata": {
        "id": "52VrNFntsVXn"
      },
      "source": [
        "Nível de bancarização em ordem crescente"
      ]
    },
    {
      "cell_type": "code",
      "metadata": {
        "id": "zXqDTfFt_1i2"
      },
      "source": [
        "case_Filtro.sort_values('Nível de bancarização',ascending=True,inplace=True)"
      ],
      "execution_count": 94,
      "outputs": []
    },
    {
      "cell_type": "markdown",
      "metadata": {
        "id": "zHOwAyjK8_Vp"
      },
      "source": [
        "#Cidades Selecionadas para atingir o objtivo de 1000 clientes convertidos"
      ]
    },
    {
      "cell_type": "code",
      "metadata": {
        "colab": {
          "base_uri": "https://localhost:8080/",
          "height": 1000
        },
        "id": "4FaadgTf_uT6",
        "outputId": "60445297-bebc-426d-854c-4b2f8d2ccb27"
      },
      "source": [
        "case_Filtro_final = case_Filtro.head(30)\n",
        "case_Filtro_final.set_index('MUNICIPIO', inplace=True)\n",
        "case_Filtro_final"
      ],
      "execution_count": 95,
      "outputs": [
        {
          "output_type": "execute_result",
          "data": {
            "text/html": [
              "<div>\n",
              "<style scoped>\n",
              "    .dataframe tbody tr th:only-of-type {\n",
              "        vertical-align: middle;\n",
              "    }\n",
              "\n",
              "    .dataframe tbody tr th {\n",
              "        vertical-align: top;\n",
              "    }\n",
              "\n",
              "    .dataframe thead th {\n",
              "        text-align: right;\n",
              "    }\n",
              "</style>\n",
              "<table border=\"1\" class=\"dataframe\">\n",
              "  <thead>\n",
              "    <tr style=\"text-align: right;\">\n",
              "      <th></th>\n",
              "      <th>UF</th>\n",
              "      <th>Populacao</th>\n",
              "      <th>Nível de bancarização</th>\n",
              "      <th>Clientes_Convertidos</th>\n",
              "    </tr>\n",
              "    <tr>\n",
              "      <th>MUNICIPIO</th>\n",
              "      <th></th>\n",
              "      <th></th>\n",
              "      <th></th>\n",
              "      <th></th>\n",
              "    </tr>\n",
              "  </thead>\n",
              "  <tbody>\n",
              "    <tr>\n",
              "      <th>OLHO D'AGUA</th>\n",
              "      <td>SE</td>\n",
              "      <td>450785.000000</td>\n",
              "      <td>0.000004</td>\n",
              "      <td>225.000000</td>\n",
              "    </tr>\n",
              "    <tr>\n",
              "      <th>ARAMBARE</th>\n",
              "      <td>BA</td>\n",
              "      <td>198129.000000</td>\n",
              "      <td>0.000005</td>\n",
              "      <td>20.000000</td>\n",
              "    </tr>\n",
              "    <tr>\n",
              "      <th>BARRA DO CHAPEU</th>\n",
              "      <td>CE</td>\n",
              "      <td>95929.000000</td>\n",
              "      <td>0.000010</td>\n",
              "      <td>19.000000</td>\n",
              "    </tr>\n",
              "    <tr>\n",
              "      <th>PORTO AMAZONAS</th>\n",
              "      <td>PA</td>\n",
              "      <td>93862.000000</td>\n",
              "      <td>0.000011</td>\n",
              "      <td>9.000000</td>\n",
              "    </tr>\n",
              "    <tr>\n",
              "      <th>ARARA</th>\n",
              "      <td>MT</td>\n",
              "      <td>183381.000000</td>\n",
              "      <td>0.000011</td>\n",
              "      <td>18.000000</td>\n",
              "    </tr>\n",
              "    <tr>\n",
              "      <th>SAO JOAO DE IRACEMA</th>\n",
              "      <td>RJ</td>\n",
              "      <td>155193.000000</td>\n",
              "      <td>0.000013</td>\n",
              "      <td>16.000000</td>\n",
              "    </tr>\n",
              "    <tr>\n",
              "      <th>BARRA DE GUABIRABA</th>\n",
              "      <td>SC</td>\n",
              "      <td>145796.000000</td>\n",
              "      <td>0.000014</td>\n",
              "      <td>87.000000</td>\n",
              "    </tr>\n",
              "    <tr>\n",
              "      <th>LIDIANOPOLIS</th>\n",
              "      <td>GO</td>\n",
              "      <td>72018.000000</td>\n",
              "      <td>0.000014</td>\n",
              "      <td>14.000000</td>\n",
              "    </tr>\n",
              "    <tr>\n",
              "      <th>BRASILIA (CANDANGOLANDIA)</th>\n",
              "      <td>MA</td>\n",
              "      <td>69662.000000</td>\n",
              "      <td>0.000014</td>\n",
              "      <td>7.000000</td>\n",
              "    </tr>\n",
              "    <tr>\n",
              "      <th>MENDES PIMENTEL</th>\n",
              "      <td>MG</td>\n",
              "      <td>68990.000000</td>\n",
              "      <td>0.000014</td>\n",
              "      <td>7.000000</td>\n",
              "    </tr>\n",
              "    <tr>\n",
              "      <th>VALE DE SAO DOMINGOS</th>\n",
              "      <td>MT</td>\n",
              "      <td>66575.000000</td>\n",
              "      <td>0.000015</td>\n",
              "      <td>53.000000</td>\n",
              "    </tr>\n",
              "    <tr>\n",
              "      <th>TAQUARACU DE MINAS</th>\n",
              "      <td>MG</td>\n",
              "      <td>57584.000000</td>\n",
              "      <td>0.000017</td>\n",
              "      <td>12.000000</td>\n",
              "    </tr>\n",
              "    <tr>\n",
              "      <th>PARANAPOEMA</th>\n",
              "      <td>BA</td>\n",
              "      <td>55689.000000</td>\n",
              "      <td>0.000018</td>\n",
              "      <td>6.000000</td>\n",
              "    </tr>\n",
              "    <tr>\n",
              "      <th>PEROBAL</th>\n",
              "      <td>GO</td>\n",
              "      <td>50434.000000</td>\n",
              "      <td>0.000020</td>\n",
              "      <td>5.000000</td>\n",
              "    </tr>\n",
              "    <tr>\n",
              "      <th>IVATE</th>\n",
              "      <td>GO</td>\n",
              "      <td>97669.000000</td>\n",
              "      <td>0.000020</td>\n",
              "      <td>29.000000</td>\n",
              "    </tr>\n",
              "    <tr>\n",
              "      <th>ANAJAS</th>\n",
              "      <td>GO</td>\n",
              "      <td>242018.000000</td>\n",
              "      <td>0.000021</td>\n",
              "      <td>48.000000</td>\n",
              "    </tr>\n",
              "    <tr>\n",
              "      <th>VARJAO</th>\n",
              "      <td>GO</td>\n",
              "      <td>136602.000000</td>\n",
              "      <td>0.000022</td>\n",
              "      <td>14.000000</td>\n",
              "    </tr>\n",
              "    <tr>\n",
              "      <th>MONTIVIDIU DO NORTE</th>\n",
              "      <td>PR</td>\n",
              "      <td>45136.000000</td>\n",
              "      <td>0.000022</td>\n",
              "      <td>5.000000</td>\n",
              "    </tr>\n",
              "    <tr>\n",
              "      <th>MONTAURI</th>\n",
              "      <td>SC</td>\n",
              "      <td>42413.000000</td>\n",
              "      <td>0.000024</td>\n",
              "      <td>4.000000</td>\n",
              "    </tr>\n",
              "    <tr>\n",
              "      <th>SENADOR ALEXANDRE COSTA</th>\n",
              "      <td>PE</td>\n",
              "      <td>42100.000000</td>\n",
              "      <td>0.000024</td>\n",
              "      <td>8.000000</td>\n",
              "    </tr>\n",
              "    <tr>\n",
              "      <th>PRIMEIRA CRUZ</th>\n",
              "      <td>MG</td>\n",
              "      <td>83843.000000</td>\n",
              "      <td>0.000024</td>\n",
              "      <td>8.000000</td>\n",
              "    </tr>\n",
              "    <tr>\n",
              "      <th>OLHOS-D'AGUA</th>\n",
              "      <td>CE</td>\n",
              "      <td>83182.000000</td>\n",
              "      <td>0.000024</td>\n",
              "      <td>8.000000</td>\n",
              "    </tr>\n",
              "    <tr>\n",
              "      <th>CONCEICAO DA BARRA DE MINAS</th>\n",
              "      <td>PI</td>\n",
              "      <td>165525.000000</td>\n",
              "      <td>0.000024</td>\n",
              "      <td>17.000000</td>\n",
              "    </tr>\n",
              "    <tr>\n",
              "      <th>ENTRE FOLHAS</th>\n",
              "      <td>MT</td>\n",
              "      <td>40584.000000</td>\n",
              "      <td>0.000025</td>\n",
              "      <td>4.000000</td>\n",
              "    </tr>\n",
              "    <tr>\n",
              "      <th>ALMADINA</th>\n",
              "      <td>MG</td>\n",
              "      <td>80494.000000</td>\n",
              "      <td>0.000025</td>\n",
              "      <td>16.000000</td>\n",
              "    </tr>\n",
              "    <tr>\n",
              "      <th>LAGOA DOS TRES CANTOS</th>\n",
              "      <td>MG</td>\n",
              "      <td>39690.000000</td>\n",
              "      <td>0.000025</td>\n",
              "      <td>8.000000</td>\n",
              "    </tr>\n",
              "    <tr>\n",
              "      <th>SALGADINHO</th>\n",
              "      <td>PE</td>\n",
              "      <td>118349.000000</td>\n",
              "      <td>0.000025</td>\n",
              "      <td>12.000000</td>\n",
              "    </tr>\n",
              "    <tr>\n",
              "      <th>PILOEZINHOS</th>\n",
              "      <td>MT</td>\n",
              "      <td>77214.000000</td>\n",
              "      <td>0.000026</td>\n",
              "      <td>8.000000</td>\n",
              "    </tr>\n",
              "    <tr>\n",
              "      <th>PIRAI DO NORTE</th>\n",
              "      <td>GO</td>\n",
              "      <td>74016.000000</td>\n",
              "      <td>0.000027</td>\n",
              "      <td>59.000000</td>\n",
              "    </tr>\n",
              "    <tr>\n",
              "      <th>ANAPURUS</th>\n",
              "      <td>SE</td>\n",
              "      <td>72677.000000</td>\n",
              "      <td>0.000028</td>\n",
              "      <td>814.000000</td>\n",
              "    </tr>\n",
              "  </tbody>\n",
              "</table>\n",
              "</div>"
            ],
            "text/plain": [
              "                              UF  ...  Clientes_Convertidos\n",
              "MUNICIPIO                         ...                      \n",
              "OLHO D'AGUA                   SE  ...            225.000000\n",
              "ARAMBARE                      BA  ...             20.000000\n",
              "BARRA DO CHAPEU               CE  ...             19.000000\n",
              "PORTO AMAZONAS                PA  ...              9.000000\n",
              "ARARA                         MT  ...             18.000000\n",
              "SAO JOAO DE IRACEMA           RJ  ...             16.000000\n",
              "BARRA DE GUABIRABA            SC  ...             87.000000\n",
              "LIDIANOPOLIS                  GO  ...             14.000000\n",
              "BRASILIA (CANDANGOLANDIA)     MA  ...              7.000000\n",
              "MENDES PIMENTEL               MG  ...              7.000000\n",
              "VALE DE SAO DOMINGOS          MT  ...             53.000000\n",
              "TAQUARACU DE MINAS            MG  ...             12.000000\n",
              "PARANAPOEMA                   BA  ...              6.000000\n",
              "PEROBAL                       GO  ...              5.000000\n",
              "IVATE                         GO  ...             29.000000\n",
              "ANAJAS                        GO  ...             48.000000\n",
              "VARJAO                        GO  ...             14.000000\n",
              "MONTIVIDIU DO NORTE           PR  ...              5.000000\n",
              "MONTAURI                      SC  ...              4.000000\n",
              "SENADOR ALEXANDRE COSTA       PE  ...              8.000000\n",
              "PRIMEIRA CRUZ                 MG  ...              8.000000\n",
              "OLHOS-D'AGUA                  CE  ...              8.000000\n",
              "CONCEICAO DA BARRA DE MINAS   PI  ...             17.000000\n",
              "ENTRE FOLHAS                  MT  ...              4.000000\n",
              "ALMADINA                      MG  ...             16.000000\n",
              "LAGOA DOS TRES CANTOS         MG  ...              8.000000\n",
              "SALGADINHO                    PE  ...             12.000000\n",
              "PILOEZINHOS                   MT  ...              8.000000\n",
              "PIRAI DO NORTE                GO  ...             59.000000\n",
              "ANAPURUS                      SE  ...            814.000000\n",
              "\n",
              "[30 rows x 4 columns]"
            ]
          },
          "metadata": {
            "tags": []
          },
          "execution_count": 95
        }
      ]
    },
    {
      "cell_type": "code",
      "metadata": {
        "colab": {
          "base_uri": "https://localhost:8080/"
        },
        "id": "KE7Nw7TjtqMI",
        "outputId": "578d2858-bc54-43e2-b6b1-aacc25d2f0cd"
      },
      "source": [
        "#Escolhendo as cidades para atingir o objetivo de 1000 clientes\n",
        "\n",
        "Entrega_final = case_Filtro_final['Clientes_Convertidos'].sum()\n",
        "print(\"O total de clientes convertidos selecionado as 10 primeiras cidades com o nível mais baixo de bancarizção é: {}\".format(Entrega_final))"
      ],
      "execution_count": 96,
      "outputs": [
        {
          "output_type": "stream",
          "text": [
            "O total de clientes convertidos selecionado as 10 primeiras cidades com o nível mais baixo de bancarizção é: 1560.0\n"
          ],
          "name": "stdout"
        }
      ]
    },
    {
      "cell_type": "code",
      "metadata": {
        "id": "jD9n80PbCGSG"
      },
      "source": [
        "case.set_index('MUNICIPIO', inplace=True)"
      ],
      "execution_count": 97,
      "outputs": []
    },
    {
      "cell_type": "code",
      "metadata": {
        "id": "JSNBcQEGByLT"
      },
      "source": [
        "case.to_csv(\"Case_final\", sep='\\t',decimal= ',', encoding='ISO-8859-1')\n",
        "case_Filtro_final.to_csv(\"Cidades_selecionadas\", sep='\\t',decimal= ',', encoding='ISO-8859-1')"
      ],
      "execution_count": 98,
      "outputs": []
    },
    {
      "cell_type": "markdown",
      "metadata": {
        "id": "7ipHbp7JSOMe"
      },
      "source": [
        "#Análise Exploratória"
      ]
    },
    {
      "cell_type": "markdown",
      "metadata": {
        "id": "FG7WOGmE2hDB"
      },
      "source": [
        "Vamos fazer uma rápida exploração nos nossos dados. O primeiro passo, é saber o que tem nessa base, e nada melhor que começar sabendo quais são as coluna."
      ]
    },
    {
      "cell_type": "code",
      "metadata": {
        "id": "Utdvi8O-Rk5l",
        "colab": {
          "base_uri": "https://localhost:8080/"
        },
        "outputId": "bb126098-1bff-42ad-d555-29a89b28687c"
      },
      "source": [
        "case.columns"
      ],
      "execution_count": 99,
      "outputs": [
        {
          "output_type": "execute_result",
          "data": {
            "text/plain": [
              "Index(['UF', 'Total_Postos', 'Total_PAE', 'Total_Agências', 'Populacao',\n",
              "       'Coeficiente de ajuste populacional', 'IDHM', 'Nível de bancarização',\n",
              "       'Teledensidade estadual', 'Probabilidade_de_conversão',\n",
              "       'Clientes_Convertidos'],\n",
              "      dtype='object')"
            ]
          },
          "metadata": {
            "tags": []
          },
          "execution_count": 99
        }
      ]
    },
    {
      "cell_type": "markdown",
      "metadata": {
        "id": "nxxxy-KT2wj3"
      },
      "source": [
        "Agora sabemos quais são as colunas, mas às vezes seus nomes não conseguem passar o tipo de informação que queremos, então vamos listar as colunas e o tipo de dados que cada uma contém com a função info do pandas."
      ]
    },
    {
      "cell_type": "code",
      "metadata": {
        "colab": {
          "base_uri": "https://localhost:8080/"
        },
        "id": "LmkuGBY72miT",
        "outputId": "ab195a59-fa85-4f88-a988-87db8bf0d7c8"
      },
      "source": [
        "case.info()"
      ],
      "execution_count": 100,
      "outputs": [
        {
          "output_type": "stream",
          "text": [
            "<class 'pandas.core.frame.DataFrame'>\n",
            "Index: 4002 entries, ABADIA DE GOIAS  to ZE DOCA \n",
            "Data columns (total 11 columns):\n",
            " #   Column                              Non-Null Count  Dtype  \n",
            "---  ------                              --------------  -----  \n",
            " 0   UF                                  4002 non-null   object \n",
            " 1   Total_Postos                        3583 non-null   float64\n",
            " 2   Total_PAE                           3687 non-null   float64\n",
            " 3   Total_Agências                      2505 non-null   float64\n",
            " 4   Populacao                           4002 non-null   float64\n",
            " 5   Coeficiente de ajuste populacional  4002 non-null   float64\n",
            " 6   IDHM                                4002 non-null   float64\n",
            " 7   Nível de bancarização               4002 non-null   float64\n",
            " 8   Teledensidade estadual              4002 non-null   float64\n",
            " 9   Probabilidade_de_conversão          4002 non-null   float64\n",
            " 10  Clientes_Convertidos                4002 non-null   float64\n",
            "dtypes: float64(10), object(1)\n",
            "memory usage: 375.2+ KB\n"
          ],
          "name": "stdout"
        }
      ]
    },
    {
      "cell_type": "markdown",
      "metadata": {
        "id": "iHmDKhkJ29wd"
      },
      "source": [
        "Temos 4968  registros e 9 colunas. De inicio já podemos perceber que algumas dessas colunas possuem dados nulos. As colunas 'Total_Agências', 'Total_Postos', 'Total_PAE', 'Coeficiente de ajuste populacional ' possuem quantidade de dados não nulos (Non-Null Count) menor que o total de registros do dataset."
      ]
    },
    {
      "cell_type": "code",
      "metadata": {
        "colab": {
          "base_uri": "https://localhost:8080/"
        },
        "id": "UohW8Hw12mnb",
        "outputId": "9ca4d519-9eda-40ca-f967-bd7e2be46562"
      },
      "source": [
        "#verificando quantidade de nulos na base\n",
        "case.isnull().sum().sort_values(ascending=False)"
      ],
      "execution_count": 101,
      "outputs": [
        {
          "output_type": "execute_result",
          "data": {
            "text/plain": [
              "Total_Agências                        1497\n",
              "Total_Postos                           419\n",
              "Total_PAE                              315\n",
              "Clientes_Convertidos                     0\n",
              "Probabilidade_de_conversão               0\n",
              "Teledensidade estadual                   0\n",
              "Nível de bancarização                    0\n",
              "IDHM                                     0\n",
              "Coeficiente de ajuste populacional       0\n",
              "Populacao                                0\n",
              "UF                                       0\n",
              "dtype: int64"
            ]
          },
          "metadata": {
            "tags": []
          },
          "execution_count": 101
        }
      ]
    },
    {
      "cell_type": "markdown",
      "metadata": {
        "id": "FzEOvVw--aac"
      },
      "source": [
        "Antes de continuarmos, vamos separar nossos dados em categóricos e numéricos, para tratá-los de modo distinto."
      ]
    },
    {
      "cell_type": "code",
      "metadata": {
        "colab": {
          "base_uri": "https://localhost:8080/"
        },
        "id": "1ua8Ubtw-a_3",
        "outputId": "51dff55d-eb56-4e75-b930-f8a3830936a4"
      },
      "source": [
        "dados_categoricos = list(case.select_dtypes(include=['object', 'datetime']).columns.sort_values())\n",
        "dados_numericos = list(case.select_dtypes(include=['float64', 'int64']).columns)\n",
        "print('Categóricos:', dados_categoricos)\n",
        "print('Numéricos:', dados_numericos)"
      ],
      "execution_count": 102,
      "outputs": [
        {
          "output_type": "stream",
          "text": [
            "Categóricos: ['UF']\n",
            "Numéricos: ['Total_Postos', 'Total_PAE', 'Total_Agências', 'Populacao', 'Coeficiente de ajuste populacional', 'IDHM', 'Nível de bancarização', 'Teledensidade estadual', 'Probabilidade_de_conversão', 'Clientes_Convertidos']\n"
          ],
          "name": "stdout"
        }
      ]
    },
    {
      "cell_type": "markdown",
      "metadata": {
        "id": "BkKBuEaKAbvl"
      },
      "source": [
        "Dados numéricos possuem qualquer valor dentro de um intervalo finito ou infinito, resumindo: números. Já dados categóricos têm valores que representam categorias ou grupos mutuamente exclusivos."
      ]
    },
    {
      "cell_type": "markdown",
      "metadata": {
        "id": "cWaMMEr5A-8J"
      },
      "source": [
        "#### Dados Numéricos\n",
        "\n",
        "\n",
        "---\n"
      ]
    },
    {
      "cell_type": "markdown",
      "metadata": {
        "id": "Qh1CfcjBBuVx"
      },
      "source": [
        "Vamos analisar nossas colunas utilizando o método describe, que traz um resumo estatístico de cada coluna."
      ]
    },
    {
      "cell_type": "code",
      "metadata": {
        "colab": {
          "base_uri": "https://localhost:8080/",
          "height": 396
        },
        "id": "IID7J4Oa2mXj",
        "outputId": "dc768d7e-9c9d-4694-8bd4-ea4cb9bd8f24"
      },
      "source": [
        "case.describe().T"
      ],
      "execution_count": 103,
      "outputs": [
        {
          "output_type": "execute_result",
          "data": {
            "text/html": [
              "<div>\n",
              "<style scoped>\n",
              "    .dataframe tbody tr th:only-of-type {\n",
              "        vertical-align: middle;\n",
              "    }\n",
              "\n",
              "    .dataframe tbody tr th {\n",
              "        vertical-align: top;\n",
              "    }\n",
              "\n",
              "    .dataframe thead th {\n",
              "        text-align: right;\n",
              "    }\n",
              "</style>\n",
              "<table border=\"1\" class=\"dataframe\">\n",
              "  <thead>\n",
              "    <tr style=\"text-align: right;\">\n",
              "      <th></th>\n",
              "      <th>count</th>\n",
              "      <th>mean</th>\n",
              "      <th>std</th>\n",
              "      <th>min</th>\n",
              "      <th>25%</th>\n",
              "      <th>50%</th>\n",
              "      <th>75%</th>\n",
              "      <th>max</th>\n",
              "    </tr>\n",
              "  </thead>\n",
              "  <tbody>\n",
              "    <tr>\n",
              "      <th>Total_Postos</th>\n",
              "      <td>3583.000000</td>\n",
              "      <td>4.260675</td>\n",
              "      <td>24.733005</td>\n",
              "      <td>1.000000</td>\n",
              "      <td>1.000000</td>\n",
              "      <td>2.000000</td>\n",
              "      <td>3.000000</td>\n",
              "      <td>1161.000000</td>\n",
              "    </tr>\n",
              "    <tr>\n",
              "      <th>Total_PAE</th>\n",
              "      <td>3687.000000</td>\n",
              "      <td>6.503662</td>\n",
              "      <td>44.958327</td>\n",
              "      <td>1.000000</td>\n",
              "      <td>1.000000</td>\n",
              "      <td>2.000000</td>\n",
              "      <td>4.000000</td>\n",
              "      <td>1969.000000</td>\n",
              "    </tr>\n",
              "    <tr>\n",
              "      <th>Total_Agências</th>\n",
              "      <td>2505.000000</td>\n",
              "      <td>6.540519</td>\n",
              "      <td>52.895748</td>\n",
              "      <td>1.000000</td>\n",
              "      <td>1.000000</td>\n",
              "      <td>2.000000</td>\n",
              "      <td>4.000000</td>\n",
              "      <td>2263.000000</td>\n",
              "    </tr>\n",
              "    <tr>\n",
              "      <th>Populacao</th>\n",
              "      <td>4002.000000</td>\n",
              "      <td>13932.963268</td>\n",
              "      <td>17978.913731</td>\n",
              "      <td>838.000000</td>\n",
              "      <td>4766.750000</td>\n",
              "      <td>8929.500000</td>\n",
              "      <td>16400.000000</td>\n",
              "      <td>450785.000000</td>\n",
              "    </tr>\n",
              "    <tr>\n",
              "      <th>Coeficiente de ajuste populacional</th>\n",
              "      <td>4002.000000</td>\n",
              "      <td>9.518991</td>\n",
              "      <td>3.348053</td>\n",
              "      <td>5.000000</td>\n",
              "      <td>5.000000</td>\n",
              "      <td>10.000000</td>\n",
              "      <td>10.000000</td>\n",
              "      <td>20.000000</td>\n",
              "    </tr>\n",
              "    <tr>\n",
              "      <th>IDHM</th>\n",
              "      <td>4002.000000</td>\n",
              "      <td>0.668903</td>\n",
              "      <td>0.069714</td>\n",
              "      <td>0.443000</td>\n",
              "      <td>0.612000</td>\n",
              "      <td>0.680000</td>\n",
              "      <td>0.724000</td>\n",
              "      <td>0.854000</td>\n",
              "    </tr>\n",
              "    <tr>\n",
              "      <th>Nível de bancarização</th>\n",
              "      <td>4002.000000</td>\n",
              "      <td>0.002158</td>\n",
              "      <td>0.019319</td>\n",
              "      <td>0.000004</td>\n",
              "      <td>0.000245</td>\n",
              "      <td>0.000527</td>\n",
              "      <td>0.001190</td>\n",
              "      <td>0.949639</td>\n",
              "    </tr>\n",
              "    <tr>\n",
              "      <th>Teledensidade estadual</th>\n",
              "      <td>4002.000000</td>\n",
              "      <td>0.412636</td>\n",
              "      <td>0.973135</td>\n",
              "      <td>0.002976</td>\n",
              "      <td>0.069683</td>\n",
              "      <td>0.174092</td>\n",
              "      <td>0.403280</td>\n",
              "      <td>21.432697</td>\n",
              "    </tr>\n",
              "    <tr>\n",
              "      <th>Probabilidade_de_conversão</th>\n",
              "      <td>4002.000000</td>\n",
              "      <td>2.216262</td>\n",
              "      <td>8.270794</td>\n",
              "      <td>0.010000</td>\n",
              "      <td>0.050000</td>\n",
              "      <td>0.210000</td>\n",
              "      <td>1.390000</td>\n",
              "      <td>248.850000</td>\n",
              "    </tr>\n",
              "    <tr>\n",
              "      <th>Clientes_Convertidos</th>\n",
              "      <td>4002.000000</td>\n",
              "      <td>85.039980</td>\n",
              "      <td>225.858916</td>\n",
              "      <td>1.000000</td>\n",
              "      <td>7.000000</td>\n",
              "      <td>22.000000</td>\n",
              "      <td>79.000000</td>\n",
              "      <td>5343.000000</td>\n",
              "    </tr>\n",
              "  </tbody>\n",
              "</table>\n",
              "</div>"
            ],
            "text/plain": [
              "                                         count  ...           max\n",
              "Total_Postos                       3583.000000  ...   1161.000000\n",
              "Total_PAE                          3687.000000  ...   1969.000000\n",
              "Total_Agências                     2505.000000  ...   2263.000000\n",
              "Populacao                          4002.000000  ... 450785.000000\n",
              "Coeficiente de ajuste populacional 4002.000000  ...     20.000000\n",
              "IDHM                               4002.000000  ...      0.854000\n",
              "Nível de bancarização              4002.000000  ...      0.949639\n",
              "Teledensidade estadual             4002.000000  ...     21.432697\n",
              "Probabilidade_de_conversão         4002.000000  ...    248.850000\n",
              "Clientes_Convertidos               4002.000000  ...   5343.000000\n",
              "\n",
              "[10 rows x 8 columns]"
            ]
          },
          "metadata": {
            "tags": []
          },
          "execution_count": 103
        }
      ]
    },
    {
      "cell_type": "markdown",
      "metadata": {
        "id": "gPOIn21ZByqS"
      },
      "source": [
        "#Gráficos"
      ]
    },
    {
      "cell_type": "code",
      "metadata": {
        "id": "QnJzUEGGC9sv"
      },
      "source": [
        "import numpy as np\n",
        "import pandas as pd\n",
        "import seaborn as sns\n",
        "import matplotlib.pyplot as plt\n",
        "%matplotlib inline"
      ],
      "execution_count": 104,
      "outputs": []
    },
    {
      "cell_type": "code",
      "metadata": {
        "id": "wBZQiUArzv97"
      },
      "source": [
        "graficos = case.copy()"
      ],
      "execution_count": 105,
      "outputs": []
    },
    {
      "cell_type": "code",
      "metadata": {
        "id": "ZxS3Ft1K1H4Q"
      },
      "source": [
        "graficos = graficos[['UF','Clientes_Convertidos']].groupby(by=['UF']).sum()\n",
        "graficos.sort_values('Clientes_Convertidos', ascending= False, inplace=True)\n",
        "graficos.reset_index(inplace=True)"
      ],
      "execution_count": 106,
      "outputs": []
    },
    {
      "cell_type": "code",
      "metadata": {
        "colab": {
          "base_uri": "https://localhost:8080/",
          "height": 391
        },
        "id": "8rzGbogwzHmg",
        "outputId": "e3c18e87-68bc-4871-89e1-1617ec16c577"
      },
      "source": [
        "import plotly.express as px\n",
        "\n",
        "fig = px.bar(graficos, x=graficos.UF ,y=graficos.Clientes_Convertidos)\n",
        "fig.show()"
      ],
      "execution_count": 107,
      "outputs": [
        {
          "output_type": "error",
          "ename": "ValueError",
          "evalue": "ignored",
          "traceback": [
            "\u001b[0;31m---------------------------------------------------------------------------\u001b[0m",
            "\u001b[0;31mAttributeError\u001b[0m                            Traceback (most recent call last)",
            "\u001b[0;32m/usr/local/lib/python3.6/dist-packages/plotly/express/_core.py\u001b[0m in \u001b[0;36mapply_default_cascade\u001b[0;34m(args)\u001b[0m\n\u001b[1;32m    746\u001b[0m                 \u001b[0;34m\"active\"\u001b[0m\u001b[0;34m:\u001b[0m \u001b[0;36m0\u001b[0m\u001b[0;34m,\u001b[0m\u001b[0;34m\u001b[0m\u001b[0;34m\u001b[0m\u001b[0m\n\u001b[0;32m--> 747\u001b[0;31m                 \u001b[0;34m\"yanchor\"\u001b[0m\u001b[0;34m:\u001b[0m \u001b[0;34m\"top\"\u001b[0m\u001b[0;34m,\u001b[0m\u001b[0;34m\u001b[0m\u001b[0;34m\u001b[0m\u001b[0m\n\u001b[0m\u001b[1;32m    748\u001b[0m                 \u001b[0;34m\"xanchor\"\u001b[0m\u001b[0;34m:\u001b[0m \u001b[0;34m\"left\"\u001b[0m\u001b[0;34m,\u001b[0m\u001b[0;34m\u001b[0m\u001b[0;34m\u001b[0m\u001b[0m\n",
            "\u001b[0;32m/usr/local/lib/python3.6/dist-packages/plotly/io/_templates.py\u001b[0m in \u001b[0;36m__getitem__\u001b[0;34m(self, item)\u001b[0m\n\u001b[1;32m     90\u001b[0m                     \u001b[0mtemplate_dict\u001b[0m \u001b[0;34m=\u001b[0m \u001b[0mjson\u001b[0m\u001b[0;34m.\u001b[0m\u001b[0mloads\u001b[0m\u001b[0;34m(\u001b[0m\u001b[0mtemplate_str\u001b[0m\u001b[0;34m)\u001b[0m\u001b[0;34m\u001b[0m\u001b[0;34m\u001b[0m\u001b[0m\n\u001b[0;32m---> 91\u001b[0;31m                     \u001b[0mtemplate\u001b[0m \u001b[0;34m=\u001b[0m \u001b[0mTemplate\u001b[0m\u001b[0;34m(\u001b[0m\u001b[0mtemplate_dict\u001b[0m\u001b[0;34m,\u001b[0m \u001b[0m_validate\u001b[0m\u001b[0;34m=\u001b[0m\u001b[0;32mFalse\u001b[0m\u001b[0;34m)\u001b[0m\u001b[0;34m\u001b[0m\u001b[0;34m\u001b[0m\u001b[0m\n\u001b[0m\u001b[1;32m     92\u001b[0m \u001b[0;34m\u001b[0m\u001b[0m\n",
            "\u001b[0;32m/usr/local/lib/python3.6/dist-packages/plotly/graph_objs/layout/__init__.py\u001b[0m in \u001b[0;36m__init__\u001b[0;34m(self, arg, data, layout, **kwargs)\u001b[0m\n",
            "\u001b[0;32m/usr/local/lib/python3.6/dist-packages/plotly/basedatatypes.py\u001b[0m in \u001b[0;36m__setitem__\u001b[0;34m(self, prop, value)\u001b[0m\n\u001b[1;32m   3481\u001b[0m \u001b[0;34m\u001b[0m\u001b[0m\n\u001b[0;32m-> 3482\u001b[0;31m         \u001b[0mengine\u001b[0m\u001b[0;34m:\u001b[0m \u001b[0mstr\u001b[0m\u001b[0;34m\u001b[0m\u001b[0;34m\u001b[0m\u001b[0m\n\u001b[0m\u001b[1;32m   3483\u001b[0m             \u001b[0mImage\u001b[0m \u001b[0mexport\u001b[0m \u001b[0mengine\u001b[0m \u001b[0mto\u001b[0m \u001b[0muse\u001b[0m\u001b[0;34m:\u001b[0m\u001b[0;34m\u001b[0m\u001b[0;34m\u001b[0m\u001b[0m\n",
            "\u001b[0;32m/usr/local/lib/python3.6/dist-packages/plotly/basedatatypes.py\u001b[0m in \u001b[0;36m_set_compound_prop\u001b[0;34m(self, prop, val)\u001b[0m\n\u001b[1;32m   3835\u001b[0m             \u001b[0;34m\"hline\"\u001b[0m\u001b[0;34m,\u001b[0m\u001b[0;34m\u001b[0m\u001b[0;34m\u001b[0m\u001b[0m\n\u001b[0;32m-> 3836\u001b[0;31m             \u001b[0mexclude_empty_subplots\u001b[0m\u001b[0;34m=\u001b[0m\u001b[0mexclude_empty_subplots\u001b[0m\u001b[0;34m,\u001b[0m\u001b[0;34m\u001b[0m\u001b[0;34m\u001b[0m\u001b[0m\n\u001b[0m\u001b[1;32m   3837\u001b[0m             \u001b[0;34m**\u001b[0m\u001b[0mkwargs\u001b[0m\u001b[0;34m\u001b[0m\u001b[0;34m\u001b[0m\u001b[0m\n",
            "\u001b[0;32m/usr/local/lib/python3.6/dist-packages/_plotly_utils/basevalidators.py\u001b[0m in \u001b[0;36mvalidate_coerce\u001b[0;34m(self, v, skip_invalid)\u001b[0m\n\u001b[1;32m   2443\u001b[0m     \u001b[0;32mdef\u001b[0m \u001b[0mvalidate_coerce\u001b[0m\u001b[0;34m(\u001b[0m\u001b[0mself\u001b[0m\u001b[0;34m,\u001b[0m \u001b[0mv\u001b[0m\u001b[0;34m,\u001b[0m \u001b[0mskip_invalid\u001b[0m\u001b[0;34m=\u001b[0m\u001b[0;32mFalse\u001b[0m\u001b[0;34m,\u001b[0m \u001b[0m_validate\u001b[0m\u001b[0;34m=\u001b[0m\u001b[0;32mTrue\u001b[0m\u001b[0;34m)\u001b[0m\u001b[0;34m:\u001b[0m\u001b[0;34m\u001b[0m\u001b[0;34m\u001b[0m\u001b[0m\n\u001b[0;32m-> 2444\u001b[0;31m         \u001b[0;32mif\u001b[0m \u001b[0mv\u001b[0m \u001b[0;32mis\u001b[0m \u001b[0;32mNone\u001b[0m\u001b[0;34m:\u001b[0m\u001b[0;34m\u001b[0m\u001b[0;34m\u001b[0m\u001b[0m\n\u001b[0m\u001b[1;32m   2445\u001b[0m             \u001b[0mv\u001b[0m \u001b[0;34m=\u001b[0m \u001b[0mself\u001b[0m\u001b[0;34m.\u001b[0m\u001b[0mdata_class\u001b[0m\u001b[0;34m(\u001b[0m\u001b[0;34m)\u001b[0m\u001b[0;34m\u001b[0m\u001b[0;34m\u001b[0m\u001b[0m\n",
            "\u001b[0;32m/usr/local/lib/python3.6/dist-packages/plotly/graph_objs/layout/template/__init__.py\u001b[0m in \u001b[0;36m__init__\u001b[0;34m(self, arg, area, barpolar, bar, box, candlestick, carpet, choroplethmapbox, choropleth, cone, contourcarpet, contour, densitymapbox, funnelarea, funnel, heatmapgl, heatmap, histogram2dcontour, histogram2d, histogram, image, indicator, isosurface, mesh3d, ohlc, parcats, parcoords, pie, pointcloud, sankey, scatter3d, scattercarpet, scattergeo, scattergl, scattermapbox, scatterpolargl, scatterpolar, scatter, scatterternary, splom, streamtube, sunburst, surface, table, treemap, violin, volume, waterfall, **kwargs)\u001b[0m\n",
            "\u001b[0;31mAttributeError\u001b[0m: module 'plotly.validators.layout.template.data' has no attribute 'AreasValidator'",
            "\nDuring handling of the above exception, another exception occurred:\n",
            "\u001b[0;31mValueError\u001b[0m                                Traceback (most recent call last)",
            "\u001b[0;32m<ipython-input-107-8ae77c6b8c66>\u001b[0m in \u001b[0;36m<module>\u001b[0;34m()\u001b[0m\n\u001b[1;32m      1\u001b[0m \u001b[0;32mimport\u001b[0m \u001b[0mplotly\u001b[0m\u001b[0;34m.\u001b[0m\u001b[0mexpress\u001b[0m \u001b[0;32mas\u001b[0m \u001b[0mpx\u001b[0m\u001b[0;34m\u001b[0m\u001b[0;34m\u001b[0m\u001b[0m\n\u001b[1;32m      2\u001b[0m \u001b[0;34m\u001b[0m\u001b[0m\n\u001b[0;32m----> 3\u001b[0;31m \u001b[0mfig\u001b[0m \u001b[0;34m=\u001b[0m \u001b[0mpx\u001b[0m\u001b[0;34m.\u001b[0m\u001b[0mbar\u001b[0m\u001b[0;34m(\u001b[0m\u001b[0mgraficos\u001b[0m\u001b[0;34m,\u001b[0m \u001b[0mx\u001b[0m\u001b[0;34m=\u001b[0m\u001b[0mgraficos\u001b[0m\u001b[0;34m.\u001b[0m\u001b[0mUF\u001b[0m \u001b[0;34m,\u001b[0m\u001b[0my\u001b[0m\u001b[0;34m=\u001b[0m\u001b[0mgraficos\u001b[0m\u001b[0;34m.\u001b[0m\u001b[0mClientes_Convertidos\u001b[0m\u001b[0;34m)\u001b[0m\u001b[0;34m\u001b[0m\u001b[0;34m\u001b[0m\u001b[0m\n\u001b[0m\u001b[1;32m      4\u001b[0m \u001b[0mfig\u001b[0m\u001b[0;34m.\u001b[0m\u001b[0mshow\u001b[0m\u001b[0;34m(\u001b[0m\u001b[0;34m)\u001b[0m\u001b[0;34m\u001b[0m\u001b[0;34m\u001b[0m\u001b[0m\n",
            "\u001b[0;32m/usr/local/lib/python3.6/dist-packages/plotly/express/_chart_types.py\u001b[0m in \u001b[0;36mbar\u001b[0;34m(data_frame, x, y, color, facet_row, facet_col, facet_col_wrap, hover_name, hover_data, custom_data, text, error_x, error_x_minus, error_y, error_y_minus, animation_frame, animation_group, category_orders, labels, color_discrete_sequence, color_discrete_map, color_continuous_scale, range_color, color_continuous_midpoint, opacity, orientation, barmode, log_x, log_y, range_x, range_y, title, template, width, height)\u001b[0m\n\u001b[1;32m    311\u001b[0m     \u001b[0mfacet_row\u001b[0m\u001b[0;34m=\u001b[0m\u001b[0;32mNone\u001b[0m\u001b[0;34m,\u001b[0m\u001b[0;34m\u001b[0m\u001b[0;34m\u001b[0m\u001b[0m\n\u001b[1;32m    312\u001b[0m     \u001b[0mfacet_col\u001b[0m\u001b[0;34m=\u001b[0m\u001b[0;32mNone\u001b[0m\u001b[0;34m,\u001b[0m\u001b[0;34m\u001b[0m\u001b[0;34m\u001b[0m\u001b[0m\n\u001b[0;32m--> 313\u001b[0;31m     \u001b[0mfacet_col_wrap\u001b[0m\u001b[0;34m=\u001b[0m\u001b[0;36m0\u001b[0m\u001b[0;34m,\u001b[0m\u001b[0;34m\u001b[0m\u001b[0;34m\u001b[0m\u001b[0m\n\u001b[0m\u001b[1;32m    314\u001b[0m     \u001b[0mfacet_row_spacing\u001b[0m\u001b[0;34m=\u001b[0m\u001b[0;32mNone\u001b[0m\u001b[0;34m,\u001b[0m\u001b[0;34m\u001b[0m\u001b[0;34m\u001b[0m\u001b[0m\n\u001b[1;32m    315\u001b[0m     \u001b[0mfacet_col_spacing\u001b[0m\u001b[0;34m=\u001b[0m\u001b[0;32mNone\u001b[0m\u001b[0;34m,\u001b[0m\u001b[0;34m\u001b[0m\u001b[0;34m\u001b[0m\u001b[0m\n",
            "\u001b[0;32m/usr/local/lib/python3.6/dist-packages/plotly/express/_core.py\u001b[0m in \u001b[0;36mmake_figure\u001b[0;34m(args, constructor, trace_patch, layout_patch)\u001b[0m\n\u001b[1;32m   1167\u001b[0m                         \u001b[0;34m\"All arguments should have the same length. \"\u001b[0m\u001b[0;34m\u001b[0m\u001b[0;34m\u001b[0m\u001b[0m\n\u001b[1;32m   1168\u001b[0m                         \u001b[0;34m\"The length of column argument `df[%s]` is %d, whereas the \"\u001b[0m\u001b[0;34m\u001b[0m\u001b[0;34m\u001b[0m\u001b[0m\n\u001b[0;32m-> 1169\u001b[0;31m                         \u001b[0;34m\"length of  previously-processed arguments %s is %d\"\u001b[0m\u001b[0;34m\u001b[0m\u001b[0;34m\u001b[0m\u001b[0m\n\u001b[0m\u001b[1;32m   1170\u001b[0m                         % (\n\u001b[1;32m   1171\u001b[0m                             \u001b[0mfield\u001b[0m\u001b[0;34m,\u001b[0m\u001b[0;34m\u001b[0m\u001b[0;34m\u001b[0m\u001b[0m\n",
            "\u001b[0;32m/usr/local/lib/python3.6/dist-packages/plotly/express/_core.py\u001b[0m in \u001b[0;36mapply_default_cascade\u001b[0;34m(args)\u001b[0m\n\u001b[1;32m    748\u001b[0m                 \u001b[0;34m\"xanchor\"\u001b[0m\u001b[0;34m:\u001b[0m \u001b[0;34m\"left\"\u001b[0m\u001b[0;34m,\u001b[0m\u001b[0;34m\u001b[0m\u001b[0;34m\u001b[0m\u001b[0m\n\u001b[1;32m    749\u001b[0m                 \"currentvalue\": {\n\u001b[0;32m--> 750\u001b[0;31m                     \u001b[0;34m\"prefix\"\u001b[0m\u001b[0;34m:\u001b[0m \u001b[0mget_label\u001b[0m\u001b[0;34m(\u001b[0m\u001b[0margs\u001b[0m\u001b[0;34m,\u001b[0m \u001b[0margs\u001b[0m\u001b[0;34m[\u001b[0m\u001b[0;34m\"animation_frame\"\u001b[0m\u001b[0;34m]\u001b[0m\u001b[0;34m)\u001b[0m \u001b[0;34m+\u001b[0m \u001b[0;34m\"=\"\u001b[0m\u001b[0;34m\u001b[0m\u001b[0;34m\u001b[0m\u001b[0m\n\u001b[0m\u001b[1;32m    751\u001b[0m                 },\n\u001b[1;32m    752\u001b[0m                 \u001b[0;34m\"pad\"\u001b[0m\u001b[0;34m:\u001b[0m \u001b[0;34m{\u001b[0m\u001b[0;34m\"b\"\u001b[0m\u001b[0;34m:\u001b[0m \u001b[0;36m10\u001b[0m\u001b[0;34m,\u001b[0m \u001b[0;34m\"t\"\u001b[0m\u001b[0;34m:\u001b[0m \u001b[0;36m60\u001b[0m\u001b[0;34m}\u001b[0m\u001b[0;34m,\u001b[0m\u001b[0;34m\u001b[0m\u001b[0;34m\u001b[0m\u001b[0m\n",
            "\u001b[0;32m/usr/local/lib/python3.6/dist-packages/plotly/graph_objs/layout/__init__.py\u001b[0m in \u001b[0;36m__init__\u001b[0;34m(self, arg, data, layout, **kwargs)\u001b[0m\n",
            "\u001b[0;31mValueError\u001b[0m: The first argument to the plotly.graph_objs.layout.Template \nconstructor must be a dict or \nan instance of plotly.graph_objs.layout.Template"
          ]
        }
      ]
    },
    {
      "cell_type": "code",
      "metadata": {
        "id": "cioVzw5aCoC-"
      },
      "source": [
        "df=pd.read_csv(\"/content/BRAZIL_CITIES.csv\", encoding='ISO-8859-1', sep=\";\", decimal=\",\")"
      ],
      "execution_count": 108,
      "outputs": []
    },
    {
      "cell_type": "code",
      "metadata": {
        "id": "JTq3Zn3cXgva"
      },
      "source": [
        "columns = ['CITY', 'STATE', 'CAPITAL','LONG','LAT', 'IBGE_RES_POP','Probabilidade_de_conversão','Clientes_Convertidos']\n",
        "df = data[columns]"
      ],
      "execution_count": 109,
      "outputs": []
    },
    {
      "cell_type": "code",
      "metadata": {
        "colab": {
          "base_uri": "https://localhost:8080/",
          "height": 1000
        },
        "id": "19P0FnlZYfvn",
        "outputId": "3f5ee153-9902-491d-ec5f-adb871a963bf"
      },
      "source": [
        "cmap = sns.cubehelix_palette(dark=.1, light=.3, as_cmap=True)\n",
        "\n",
        "\n",
        "f, ax = plt.subplots(figsize=(8, 8))\n",
        "sns.scatterplot(x=df[df['Probabilidade_de_conversão']>= 2.21].LONG,\n",
        "                y=df[df['Probabilidade_de_conversão']>= 2.21].LAT ,\n",
        "                palette =cmap,\n",
        "                hue=df['Probabilidade_de_conversão'],\n",
        "                size=df['Probabilidade_de_conversão'])\n",
        "plt.title(\"Localização de cidades com probabilidade de conversão acima da média\", color = '#D3D3D3')\n",
        "\n",
        "f, ax = plt.subplots(figsize=(8, 8))\n",
        "sns.scatterplot(x=df[df['Clientes_Convertidos']>= 85].LONG,\n",
        "                y=df[df['Clientes_Convertidos']>= 85].LAT ,\n",
        "                palette =cmap,\n",
        "                hue=df['Clientes_Convertidos'],\n",
        "                size=df['Clientes_Convertidos'])\n",
        "plt.title(\"Localização de cidades com cliente convertidos acima da média\", color = '#D3D3D3')\n",
        "plt.show()"
      ],
      "execution_count": 119,
      "outputs": [
        {
          "output_type": "display_data",
          "data": {
            "image/png": "[encoded data removed]",
            "text/plain": [
              "<Figure size 576x576 with 1 Axes>"
            ]
          },
          "metadata": {
            "tags": [],
            "needs_background": "light"
          }
        },
        {
          "output_type": "display_data",
          "data": {
            "image/png": "[encoded data removed]",
            "text/plain": [
              "<Figure size 576x576 with 1 Axes>"
            ]
          },
          "metadata": {
            "tags": [],
            "needs_background": "light"
          }
        }
      ]
    },
    {
      "cell_type": "markdown",
      "metadata": {
        "id": "rWLx__bQQne8"
      },
      "source": [
        "#Referências\n",
        "\n",
        "\n"
      ]
    },
    {
      "cell_type": "markdown",
      "metadata": {
        "id": "hibr71p7Uc-2"
      },
      "source": [
        "\n",
        "[Brasil tem 45 milhões de desbancarizados, diz pesquisa](https://www.infomoney.com.br/minhas-financas/brasil-tem-45-milhoes-de-desbancarizados-diz-pesquisa/)\n",
        "\n",
        "[Um em cada três brasileiros não tem conta em banco, mostra pesquisa Locomotiva](https://www.ilocomotiva.com.br/single-post/2019/09/24/Um-em-cada-três-brasileiros-não-tem-conta-em-banco-mostra-pesquisa-Locomotiva)\n",
        "\n",
        "[Os brasileiros e o\n",
        "dinheiro em espécie](https://static.poder360.com.br/2019/10/Os-brasileiros-e-o-dinheiro-em-especie-Imprensa-Outubro-de-2019.pdf)\n",
        "***"
      ]
    },
    {
      "cell_type": "markdown",
      "metadata": {
        "id": "qj3QU9chYwCp"
      },
      "source": [
        "**Estatísticas de Celulares no Brasil**\n",
        "\n",
        "Dados sobre o total de telefone celulares nos estados do Brasil.\n",
        "\n",
        "link: https://www.teleco.com.br/ncel.asp\n",
        "\n",
        "Data de último acesso:  20/11/2000\n",
        "\n",
        "Périodo utilizado: Setembro 2020\n",
        "***"
      ]
    },
    {
      "cell_type": "markdown",
      "metadata": {
        "id": "IR0aUz4uZJPH"
      },
      "source": [
        "**IBGE**\n",
        "\n",
        "Estimativas de População - 2020\n",
        "\n",
        "link: [SIDRA](https://sidra.ibge.gov.br/pesquisa/estimapop/tabelas)\n",
        "\n",
        "Data de último acesso: 20/11/2000\n",
        "\n",
        "Périodo utilizado: Ano de 2020\n",
        "***"
      ]
    },
    {
      "cell_type": "markdown",
      "metadata": {
        "id": "jW_RmAIjbxhg"
      },
      "source": [
        " **KAGLE** \n",
        "\n",
        " Brazilian Cities\n",
        "\n",
        "Série de informações sobre o Brasil(cidades e municipios)\n",
        "\n",
        "link:https://www.kaggle.com/crisparada/brazilian-cities\n",
        "\n",
        "Data de último acesso: 20/11/2000\n",
        "\n",
        "Périodo utilizado: Ano de 2010\n",
        "***"
      ]
    },
    {
      "cell_type": "markdown",
      "metadata": {
        "id": "4qoR4hlahvUG"
      },
      "source": [
        "**Relação deAgências,Postos de Atendimento das Instituições Financeiras e Filiais\n",
        "Filiais das Administradoras de Consórcio.** \n",
        "\n",
        "\n",
        "link: https://www.bcb.gov.br/fis/info/agencias.asp?frame=1\n",
        "\n",
        "Data de último acesso: 20/11/2000\n",
        "\n",
        "Périodo utilizado: Outubro 2010"
      ]
    }
  ]
}